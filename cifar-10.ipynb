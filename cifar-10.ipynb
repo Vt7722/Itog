{
 "cells": [
  {
   "cell_type": "code",
   "execution_count": 7,
   "id": "3bd6e18b-137f-4560-88fc-2f0da7e60b1a",
   "metadata": {},
   "outputs": [],
   "source": [
    "# !pip3 install torch torchvision torchaudio\n",
    "# !pip freeze >> requirements.txt"
   ]
  },
  {
   "cell_type": "markdown",
   "id": "9a880451-b505-43e6-b098-3f9d22d0c0e9",
   "metadata": {},
   "source": [
    "Датасет :https://www.cs.toronto.edu/~kriz/cifar-10-binary.tar.gz.\\\n",
    "Задача : обучить классификатор цветных изображений с помощью свёрточной (не полносвязной архитектуры) сети искусственных нейронов."
   ]
  },
  {
   "cell_type": "markdown",
   "id": "aa7c9f2d-2e27-42f7-b88d-c4e11660e1d0",
   "metadata": {},
   "source": [
    "Структура датасета:\n",
    "1. batches.meta.txt\n",
    "2. data_batch_1.bin\n",
    "3. data_batch_2.bin\n",
    "4. data_batch_3.bin\n",
    "5. data_batch_4.bin\n",
    "6. data_batch_5.bin\n",
    "7. readme.html\n",
    "8. test_batch.bin\\\n",
    "data_batch_1.bin и т.д. содержат обучающие примеры, а test_batch.bin - тестовые примеры. batches.meta.txt - метаданные."
   ]
  },
  {
   "cell_type": "markdown",
   "id": "c064bc99-f3a3-4f5b-89fa-4129dfc91fef",
   "metadata": {},
   "source": [
    "Для тренировки сети будет использоваться общедоступный набор данных CIFAR10. \n",
    "Классы: «самолет», «автомобиль», «птица», \n",
    "        «кошка», «олень», «собака», «лягушка», \n",
    "        «лошадь», «корабль», «грузовик». \n",
    "Изображения в CIFAR10 3-канальные цветные размером 32x32 пикселя."
   ]
  },
  {
   "cell_type": "code",
   "execution_count": 2,
   "id": "ece1759d-7639-442d-a313-1d34e2781248",
   "metadata": {},
   "outputs": [
    {
     "name": "stdout",
     "output_type": "stream",
     "text": [
      "Files already downloaded and verified\n",
      "Files already downloaded and verified\n"
     ]
    }
   ],
   "source": [
    "import torch\n",
    "import torchvision\n",
    "import torchvision.transforms as transforms\n",
    "\n",
    "transform = transforms.Compose(\n",
    "    [transforms.ToTensor(),\n",
    "     transforms.Normalize((0.5, 0.5, 0.5), (0.5, 0.5, 0.5))])\n",
    "\n",
    "trainset = torchvision.datasets.CIFAR10(root='./data', train=True,\n",
    "                                        download=True, transform=transform)\n",
    "\n",
    "trainloader = torch.utils.data.DataLoader(trainset, batch_size=4,\n",
    "                                          shuffle=True, num_workers=2)\n",
    "\n",
    "testset = torchvision.datasets.CIFAR10(root='./data', train=False,\n",
    "                                       download=True, transform=transform)\n",
    "\n",
    "testloader = torch.utils.data.DataLoader(testset, batch_size=4,\n",
    "                                         shuffle=False, num_workers=2)\n",
    "\n",
    "classes = ('plane', 'car', 'bird', 'cat',\n",
    "           'deer', 'dog', 'frog', 'horse', 'ship', 'truck')"
   ]
  },
  {
   "cell_type": "markdown",
   "id": "87c4751c-531b-4dee-bb78-8620a2170833",
   "metadata": {},
   "source": [
    "Вывод тренировочных образов для проверки:"
   ]
  },
  {
   "cell_type": "markdown",
   "id": "9c5e447e-dc4d-413f-998b-c05afe2a0972",
   "metadata": {},
   "source": [
    "Преобразование данных \\\n",
    "\\\n",
    "ToTensor() преобразует изображение из формата PIL Image или массива NumPy в тензор PyTorch.\n",
    "\n",
    "Normalize() нормализует тензор, используя указанные средние и стандартные отклонения для каждого канала (средние и стандартные отклонения устанавливаются в (0,5, 0,5, 0,5) для каждого цветового канала).\n",
    "\n",
    "Обучающий набор данных:\n",
    "\n",
    "– root=./data является прямым путем к папке набора данных\\\n",
    "– train=True является параметром, позволяющим определить, что набор данных является обучающим\\\n",
    "– download=True, если файл или папка не существует, создает новый и загружает\\\n",
    "– torch.utils.data.Dataset создает загрузчик данных для обработки блоков и перемешивания обучающего набора данных\\\n",
    "– batch_size=4 устанавливает размер блока равным 4\\\n",
    "– shuffle=True перемешивает обучающие данные случайно\\\n",
    "– num_workers=2 указывает количество рабочих потоков для загрузки данных\\\n",
    "\\\n",
    "Так же указываются классы в датасете, которых всего 10"
   ]
  },
  {
   "cell_type": "code",
   "execution_count": 7,
   "id": "840e47e1-b689-4a55-8b0f-f1c409d8e8b4",
   "metadata": {},
   "outputs": [
    {
     "data": {
      "image/png": "[encoded data removed]",
      "text/plain": [
       "<Figure size 640x480 with 1 Axes>"
      ]
     },
     "metadata": {},
     "output_type": "display_data"
    },
    {
     "name": "stdout",
     "output_type": "stream",
     "text": [
      "truck  ship  bird   car\n"
     ]
    }
   ],
   "source": [
    "import matplotlib.pyplot as plt\n",
    "import numpy as np\n",
    "\n",
    "# functions to show an image\n",
    "\n",
    "def imshow(img):\n",
    "    img = img / 2 + 0.5     # unnormalize\n",
    "    npimg = img.numpy()\n",
    "    plt.imshow(np.transpose(npimg, (1, 2, 0)))\n",
    "    plt.show()\n",
    "\n",
    "# get some random training images\n",
    "dataiter = iter(trainloader)\n",
    "\n",
    "for images, labels in trainloader:\n",
    "    # show images\n",
    "    imshow(torchvision.utils.make_grid(images))\n",
    "    # print labels\n",
    "    print(' '.join('%5s' % classes[labels[j]] for j in range(4)))\n",
    "    break"
   ]
  },
  {
   "cell_type": "markdown",
   "id": "8404daf9-8fe4-4634-87cd-178348085227",
   "metadata": {},
   "source": [
    "Чтобы создать нейронную сеть, нужно понять, как она функционирует. Это простейшая сеть прямой связи. Она принимает вводные данные, пропускает их через ряд слоев и в конце выдает выходные данные."
   ]
  },
  {
   "cell_type": "code",
   "execution_count": 8,
   "id": "a28f252b-3537-449d-99fc-3a3adf69cf6d",
   "metadata": {},
   "outputs": [],
   "source": [
    "import torch.nn as nn\n",
    "import torch.nn.functional as F\n",
    "\n",
    "class Net(nn.Module):\n",
    "    def __init__(self):\n",
    "        super(Net, self).__init__()\n",
    "        self.conv1 = nn.Conv2d(3, 6, 5)\n",
    "        self.pool = nn.MaxPool2d(2, 2)\n",
    "        self.conv2 = nn.Conv2d(6, 16, 5)\n",
    "        self.fc1 = nn.Linear(16 * 5 * 5, 120)\n",
    "        self.fc2 = nn.Linear(120, 84)\n",
    "        self.fc3 = nn.Linear(84, 10)\n",
    "\n",
    "    def forward(self, x):\n",
    "        x = self.pool(F.relu(self.conv1(x)))\n",
    "        x = self.pool(F.relu(self.conv2(x)))\n",
    "        x = x.view(-1, 16 * 5 * 5)\n",
    "        x = F.relu(self.fc1(x))\n",
    "        x = F.relu(self.fc2(x))\n",
    "        x = self.fc3(x)\n",
    "        return x\n",
    "\n",
    "net = Net()"
   ]
  },
  {
   "cell_type": "markdown",
   "id": "7ac47775-f42d-46ad-9ee8-06aa24b08cd9",
   "metadata": {},
   "source": [
    "Слои модели:\n",
    "1. Свёрточный слой conv1 - nn.Conv2d(3,6,5) - Принимает входной тензор с 3 каналами (предположительно, RGB) и применяет 6 фильтров размером 5x5. Это создает 6 карт признаков.\n",
    "2. Пуллинговый слой pool - ''nn.MaxPool2d(2,2) -  После каждого сверточного слоя используется слой максимального пулинга размером 2x2, что уменьшает размер карт признаков вдвое.\n",
    "3. Свёрточный слой conv2 - nn.Conv2d(6,16,5) - Принимает 6 входных карт признаков (от предыдущего сверточного слоя) и применяет 16 фильтров размером 5x5. Это увеличивает глубину карт признаков.\n",
    "4. Полносвязные слои fc1, fc2, fc3 -\n",
    "   1. nn.Linear(16 * 5 * 5, 120) - После второго сверточного слоя данные \"разворачиваются\" (flatten) в вектор и проходят через первый полносвязный слой с 120 нейронами.\n",
    "   2. nn.Linear(120, 84) - Второй полносвязный слой с 84 нейронами.\n",
    "   3. nn.Linear(84, 10) - Выходной полносвязный слой с 10 нейронами, что соответствует 10 классам в CIFAR-10.\n",
    "  "
   ]
  },
  {
   "cell_type": "markdown",
   "id": "1a6cf69e-c78d-418c-ba13-44764859ac28",
   "metadata": {},
   "source": [
    "Определение функции потерь и оптимизатора:"
   ]
  },
  {
   "cell_type": "code",
   "execution_count": 9,
   "id": "74d8664a-441d-4744-b0ec-0d984b4a781d",
   "metadata": {},
   "outputs": [],
   "source": [
    "import torch.optim as optim\n",
    "\n",
    "criterion = nn.CrossEntropyLoss()\n",
    "optimizer = optim.SGD(net.parameters(), lr=0.001, momentum=0.9)"
   ]
  },
  {
   "cell_type": "markdown",
   "id": "2023887e-136f-4c55-816a-17625d152e66",
   "metadata": {},
   "source": [
    "Тренировка сети на тренировочных данных"
   ]
  },
  {
   "cell_type": "code",
   "execution_count": 10,
   "id": "2f4d538f-d2ee-4d07-b9e7-c92e3034647e",
   "metadata": {},
   "outputs": [
    {
     "name": "stdout",
     "output_type": "stream",
     "text": [
      "[1,  2000] loss: 2.178\n",
      "[1,  4000] loss: 1.857\n",
      "[1,  6000] loss: 1.720\n",
      "[1,  8000] loss: 1.590\n",
      "[1, 10000] loss: 1.547\n",
      "[1, 12000] loss: 1.527\n",
      "[2,  2000] loss: 1.445\n",
      "[2,  4000] loss: 1.425\n",
      "[2,  6000] loss: 1.395\n",
      "[2,  8000] loss: 1.368\n",
      "[2, 10000] loss: 1.358\n",
      "[2, 12000] loss: 1.341\n",
      "Finished Training\n"
     ]
    }
   ],
   "source": [
    "for epoch in range(2):  # loop over the dataset multiple times\n",
    "\n",
    "    running_loss = 0.0\n",
    "    for i, data in enumerate(trainloader, 0):\n",
    "        # get the inputs; data is a list of [inputs, labels]\n",
    "        inputs, labels = data\n",
    "\n",
    "        # zero the parameter gradients\n",
    "        optimizer.zero_grad()\n",
    "\n",
    "        # forward + backward + optimize\n",
    "        outputs = net(inputs)\n",
    "        loss = criterion(outputs, labels)\n",
    "        loss.backward()\n",
    "        optimizer.step()\n",
    "\n",
    "        # print statistics\n",
    "        running_loss += loss.item()\n",
    "        if i % 2000 == 1999:    # print every 2000 mini-batches\n",
    "            print('[%d, %5d] loss: %.3f' %\n",
    "                  (epoch + 1, i + 1, running_loss / 2000))\n",
    "            running_loss = 0.0\n",
    "\n",
    "print('Finished Training')"
   ]
  },
  {
   "cell_type": "markdown",
   "id": "0c04fedb-9a96-4c34-8c0b-fe648b85cbce",
   "metadata": {},
   "source": [
    "Сохранение обученной модели"
   ]
  },
  {
   "cell_type": "code",
   "execution_count": 11,
   "id": "83cc6745-c122-473a-8403-730ef8c1c5cd",
   "metadata": {},
   "outputs": [],
   "source": [
    "PATH = './cifar_net.pth'\n",
    "torch.save(net.state_dict(), PATH)"
   ]
  },
  {
   "cell_type": "markdown",
   "id": "57b0ebe5-b0ea-4370-83f1-df1a82b9232e",
   "metadata": {},
   "source": [
    "Тестирование сети на тестовых данных"
   ]
  },
  {
   "cell_type": "markdown",
   "id": "b1819fc9-b13f-4843-8b64-de75accb68b6",
   "metadata": {},
   "source": [
    "Проверка происходит путем, предсказания метки класса, которую выводит нейронная сеть, и проверки ее на предмет истинности. Если прогноз верен, то образец добавляется в список правильных прогнозов."
   ]
  },
  {
   "cell_type": "code",
   "execution_count": 15,
   "id": "703bb5eb-c83e-4fd2-9554-412ec2a62508",
   "metadata": {},
   "outputs": [
    {
     "data": {
      "image/png": "[encoded data removed]",
      "text/plain": [
       "<Figure size 640x480 with 1 Axes>"
      ]
     },
     "metadata": {},
     "output_type": "display_data"
    },
    {
     "name": "stdout",
     "output_type": "stream",
     "text": [
      "GroundTruth:    cat  ship  ship plane\n"
     ]
    }
   ],
   "source": [
    "# get some random test images\n",
    "for images, labels in testloader:\n",
    "    # print images\n",
    "    imshow(torchvision.utils.make_grid(images))\n",
    "    print('GroundTruth: ', ' '.join('%5s' % classes[labels[j]] for j in range(4)))\n",
    "    break  # прерывание цикла после первой итерации, чтобы не продолжать бесконечно"
   ]
  },
  {
   "cell_type": "code",
   "execution_count": 17,
   "id": "839f023a-90ef-4dc3-b326-52edf678db42",
   "metadata": {},
   "outputs": [
    {
     "name": "stdout",
     "output_type": "stream",
     "text": [
      "Predicted:    cat  ship   car  ship\n"
     ]
    }
   ],
   "source": [
    "net = Net()\n",
    "net.load_state_dict(torch.load(PATH))\n",
    "\n",
    "outputs = net(images)\n",
    "\n",
    "_, predicted = torch.max(outputs, 1)\n",
    "\n",
    "print('Predicted: ', ' '.join('%5s' % classes[predicted[j]]\n",
    "                              for j in range(4)))"
   ]
  },
  {
   "cell_type": "markdown",
   "id": "9284c1e7-eae9-4e51-802a-d630212a7785",
   "metadata": {},
   "source": [
    "\n",
    "Теперь посмотрим, как сеть работает во всём наборе данных."
   ]
  },
  {
   "cell_type": "code",
   "execution_count": 18,
   "id": "76ac386e-6517-4eb5-9501-c6d98d9cf41f",
   "metadata": {},
   "outputs": [
    {
     "name": "stdout",
     "output_type": "stream",
     "text": [
      "Accuracy of the network on the 10000 test images: 53 %\n"
     ]
    }
   ],
   "source": [
    "correct = 0\n",
    "total = 0\n",
    "with torch.no_grad():\n",
    "    for data in testloader:\n",
    "        images, labels = data\n",
    "        outputs = net(images)\n",
    "        _, predicted = torch.max(outputs.data, 1)\n",
    "        total += labels.size(0)\n",
    "        correct += (predicted == labels).sum().item()\n",
    "\n",
    "print('Accuracy of the network on the 10000 test images: %d %%' % (\n",
    "    100 * correct / total))"
   ]
  },
  {
   "cell_type": "markdown",
   "id": "14d08d38-bc1e-439f-83d3-42ef694f4734",
   "metadata": {},
   "source": [
    "\n",
    "Теперь посмотрим, наксолько точно сеть может определять конкретный класс:"
   ]
  },
  {
   "cell_type": "code",
   "execution_count": 19,
   "id": "9de70307-141c-4886-898e-5b879955f83b",
   "metadata": {},
   "outputs": [
    {
     "name": "stdout",
     "output_type": "stream",
     "text": [
      "Accuracy of plane : 67 %\n",
      "Accuracy of   car : 54 %\n",
      "Accuracy of  bird : 30 %\n",
      "Accuracy of   cat : 34 %\n",
      "Accuracy of  deer : 39 %\n",
      "Accuracy of   dog : 49 %\n",
      "Accuracy of  frog : 67 %\n",
      "Accuracy of horse : 61 %\n",
      "Accuracy of  ship : 57 %\n",
      "Accuracy of truck : 75 %\n"
     ]
    }
   ],
   "source": [
    "class_correct = list(0. for i in range(10))\n",
    "class_total = list(0. for i in range(10))\n",
    "with torch.no_grad():\n",
    "    for data in testloader:\n",
    "        images, labels = data\n",
    "        outputs = net(images)\n",
    "        _, predicted = torch.max(outputs, 1)\n",
    "        c = (predicted == labels).squeeze()\n",
    "        for i in range(4):\n",
    "            label = labels[i]\n",
    "            class_correct[label] += c[i].item()\n",
    "            class_total[label] += 1\n",
    "\n",
    "\n",
    "for i in range(10):\n",
    "    print('Accuracy of %5s : %2d %%' % (\n",
    "        classes[i], 100 * class_correct[i] / class_total[i]))"
   ]
  },
  {
   "cell_type": "markdown",
   "id": "b4860404-9b0a-4b9f-8c0a-b09d93964b80",
   "metadata": {},
   "source": [
    "Отсюда видно, что наиболее распознаваемыми классами являются:\n",
    "1. Грузовики\n",
    "2. Лягушки\n",
    "3. Самолёты\n",
    "4. Корабли и т.д.\n"
   ]
  },
  {
   "cell_type": "markdown",
   "id": "1e6794ae-5ae7-45f7-8df6-8c2953ab30e2",
   "metadata": {},
   "source": [
    "Подводя итоги: произошло обучение нейронной сети, для CIFAR-10. Как минимум, она будет полена для обхода Google-капч."
   ]
  },
  {
   "cell_type": "markdown",
   "id": "5c135408-992d-411f-97f0-9040786fe11b",
   "metadata": {},
   "source": [
    "Данная модель уже обучена и может использоваться для решения различных задач. Она сохранена в файле `cifar_net.pth` для её дальнейшего использования отдельно."
   ]
  }
 ],
 "metadata": {
  "kernelspec": {
   "display_name": "Python 3 (ipykernel)",
   "language": "python",
   "name": "python3"
  },
  "language_info": {
   "codemirror_mode": {
    "name": "ipython",
    "version": 3
   },
   "file_extension": ".py",
   "mimetype": "text/x-python",
   "name": "python",
   "nbconvert_exporter": "python",
   "pygments_lexer": "ipython3",
   "version": "3.11.2"
  }
 },
 "nbformat": 4,
 "nbformat_minor": 5
}
